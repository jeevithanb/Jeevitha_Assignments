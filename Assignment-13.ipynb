{
 "cells": [
  {
   "cell_type": "markdown",
   "id": "53734a81",
   "metadata": {},
   "source": [
    "1. What advantages do Excel spreadsheets have over CSV spreadsheets?"
   ]
  },
  {
   "cell_type": "raw",
   "id": "0f120921",
   "metadata": {},
   "source": [
    "Excel spreassheet can perform VBA coding,functions,formulas and create summaries easily when compared to CSV.\n",
    "CSV cannot perform VBA codong,functions,formulas and create summaries.\n",
    "\n",
    "Huge data is more convinient to read in Excel format for the end user comapred to the CSV format read.\n",
    "\n",
    "Excel provides user option for ecternal linking of data from other sources,the user can do custom add-ins.\n",
    "In terms of CSV, no such format is available."
   ]
  },
  {
   "cell_type": "markdown",
   "id": "4352d949",
   "metadata": {},
   "source": [
    "2.What do you pass to csv.reader() and csv.writer() to create reader and writer objects?"
   ]
  },
  {
   "cell_type": "code",
   "execution_count": 16,
   "id": "2ea21004",
   "metadata": {},
   "outputs": [
    {
     "name": "stdout",
     "output_type": "stream",
     "text": [
      "['SN', 'NAME', 'CITY']\n",
      "['1', 'Jack', 'Newyork']\n",
      "['2', 'Jill', 'Newjersey']\n",
      "['3', 'Anna', 'Chicago']\n",
      "['4', 'Willy', 'Antartica']\n",
      "['5', 'Cloye', 'UK']\n",
      "[]\n"
     ]
    }
   ],
   "source": [
    "import csv\n",
    "\n",
    "with open('textdoc.txt','r') as file:\n",
    "    reader=csv.reader(file)\n",
    "    for row in reader:\n",
    "        print(row)"
   ]
  },
  {
   "cell_type": "code",
   "execution_count": 10,
   "id": "694d75bb",
   "metadata": {},
   "outputs": [],
   "source": [
    "with open('Textone.txt','w',newline='') as file:\n",
    "    writer=csv.writer(file)\n",
    "    writer.writerow(['SN','NAME','CITY'])\n",
    "    writer.writerow(['5','Cloye','UK'])"
   ]
  },
  {
   "cell_type": "code",
   "execution_count": 14,
   "id": "24e84452",
   "metadata": {},
   "outputs": [],
   "source": [
    "with open('textdoc.txt','a') as file:\n",
    "    writer=csv.writer(file)\n",
    "    writer.writerow(['5','Cloye','UK'])\n",
    "    file.close()"
   ]
  },
  {
   "cell_type": "markdown",
   "id": "16e0dc2b",
   "metadata": {},
   "source": [
    "3. What modes do File objects for reader and writer objects need to be opened in?"
   ]
  },
  {
   "cell_type": "raw",
   "id": "56c81616",
   "metadata": {},
   "source": [
    "r- open a file for reading\n",
    "w-open a file for writing.Here it creates a new file for writing if it does not exists\n",
    "or truncates the file if exists\n",
    "a-open for appending at the end of filewithout truncating it."
   ]
  },
  {
   "cell_type": "markdown",
   "id": "9bae7198",
   "metadata": {},
   "source": [
    "4. What method takes a list argument and writes it to a CSV file?"
   ]
  },
  {
   "cell_type": "markdown",
   "id": "1fc4a039",
   "metadata": {},
   "source": [
    "writerows() function takes alist of iterables as parameter and writes each item as comma seperated line of items in a file"
   ]
  },
  {
   "cell_type": "code",
   "execution_count": 23,
   "id": "2b9026ff",
   "metadata": {},
   "outputs": [],
   "source": [
    "import csv\n",
    "\n",
    "fruits=[('apple',20,21),('mango',22,23),('papaya',24,25)]\n",
    "with open('fruits.csv','w',newline='') as f:\n",
    "    writer=csv.writer(f)\n",
    "    writer.writerows(fruits)\n",
    "    "
   ]
  },
  {
   "cell_type": "markdown",
   "id": "886308ec",
   "metadata": {},
   "source": [
    "5. What do the keyword arguments delimiter and line terminator do?"
   ]
  },
  {
   "cell_type": "raw",
   "id": "55ec035b",
   "metadata": {},
   "source": [
    "delimeter specifies the character used to seperate each field in a dataset.Normally it is (,)"
   ]
  },
  {
   "cell_type": "code",
   "execution_count": 28,
   "id": "bb288ea7",
   "metadata": {},
   "outputs": [],
   "source": [
    "import csv\n",
    "\n",
    "file=open('example.tsv','w',newline='')\n",
    "writer=csv.writer(file,delimiter='\\t',lineterminator='\\n\\n')\n",
    "writer.writerows(['diamond','gold','silver'])\n",
    "writer.writerows(['eggs','spam','ham'])\n",
    "writer.writerows(['spam','spam','apam','apam'])\n",
    "file.close()"
   ]
  },
  {
   "cell_type": "markdown",
   "id": "45511033",
   "metadata": {},
   "source": [
    "6. What function takes a string of JSON data and returns a Python data structure?"
   ]
  },
  {
   "cell_type": "code",
   "execution_count": 31,
   "id": "e00675e8",
   "metadata": {},
   "outputs": [
    {
     "data": {
      "text/plain": [
       "{'key1': 'value1', 'key2': 'value2', 'key3': 'value3', 'key4': 'value4'}"
      ]
     },
     "execution_count": 31,
     "metadata": {},
     "output_type": "execute_result"
    }
   ],
   "source": [
    "stringofJSON='{\"key1\":\"value1\",\"key2\":\"value2\",\"key3\":\"value3\",\"key4\":\"value4\"}'\n",
    "import json\n",
    "x=json.loads(stringofJSON)\n",
    "x\n",
    "\n",
    "# json.loads()- loads json data into pyton ds"
   ]
  },
  {
   "cell_type": "markdown",
   "id": "610a19e7",
   "metadata": {},
   "source": [
    "7. What function takes a Python data structure and returns a string of JSON data?\n",
    "\n"
   ]
  },
  {
   "cell_type": "code",
   "execution_count": 32,
   "id": "7de3bdba",
   "metadata": {},
   "outputs": [
    {
     "data": {
      "text/plain": [
       "'{\"key1\": \"value1\", \"key2\": \"value2\", \"key3\": \"value3\", \"key4\": \"value4\"}'"
      ]
     },
     "execution_count": 32,
     "metadata": {},
     "output_type": "execute_result"
    }
   ],
   "source": [
    "#json.dumps() encodes python ds into json\n",
    "pythondata={'key1': 'value1', 'key2': 'value2', 'key3': 'value3', 'key4': 'value4'}\n",
    "dump=json.dumps(pythondata)\n",
    "dump"
   ]
  },
  {
   "cell_type": "code",
   "execution_count": null,
   "id": "ee072baa",
   "metadata": {},
   "outputs": [],
   "source": []
  }
 ],
 "metadata": {
  "kernelspec": {
   "display_name": "Python 3 (ipykernel)",
   "language": "python",
   "name": "python3"
  },
  "language_info": {
   "codemirror_mode": {
    "name": "ipython",
    "version": 3
   },
   "file_extension": ".py",
   "mimetype": "text/x-python",
   "name": "python",
   "nbconvert_exporter": "python",
   "pygments_lexer": "ipython3",
   "version": "3.9.13"
  }
 },
 "nbformat": 4,
 "nbformat_minor": 5
}
