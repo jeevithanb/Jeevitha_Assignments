{
 "cells": [
  {
   "cell_type": "markdown",
   "id": "b2946136",
   "metadata": {},
   "source": [
    "1. Create an assert statement that throws an AssertionError if the variable spam is a negative integer."
   ]
  },
  {
   "cell_type": "code",
   "execution_count": 28,
   "id": "c55266b6",
   "metadata": {},
   "outputs": [],
   "source": [
    "def a_function():\n",
    "    \n",
    "    spam = int(input('The value : '))\n",
    "    assert spam > 0,'< 0 gives error'\n",
    "       \n",
    "  \n",
    "        "
   ]
  },
  {
   "cell_type": "code",
   "execution_count": 29,
   "id": "9186c65d",
   "metadata": {},
   "outputs": [
    {
     "name": "stdout",
     "output_type": "stream",
     "text": [
      "The value : -98765\n"
     ]
    },
    {
     "ename": "AssertionError",
     "evalue": "< 0 gives error",
     "output_type": "error",
     "traceback": [
      "\u001b[1;31m---------------------------------------------------------------------------\u001b[0m",
      "\u001b[1;31mAssertionError\u001b[0m                            Traceback (most recent call last)",
      "\u001b[1;32m~\\AppData\\Local\\Temp\\ipykernel_4320\\2029672349.py\u001b[0m in \u001b[0;36m<module>\u001b[1;34m\u001b[0m\n\u001b[1;32m----> 1\u001b[1;33m \u001b[0ma_function\u001b[0m\u001b[1;33m(\u001b[0m\u001b[1;33m)\u001b[0m\u001b[1;33m\u001b[0m\u001b[1;33m\u001b[0m\u001b[0m\n\u001b[0m",
      "\u001b[1;32m~\\AppData\\Local\\Temp\\ipykernel_4320\\3882140477.py\u001b[0m in \u001b[0;36ma_function\u001b[1;34m()\u001b[0m\n\u001b[0;32m      2\u001b[0m \u001b[1;33m\u001b[0m\u001b[0m\n\u001b[0;32m      3\u001b[0m     \u001b[0mspam\u001b[0m \u001b[1;33m=\u001b[0m \u001b[0mint\u001b[0m\u001b[1;33m(\u001b[0m\u001b[0minput\u001b[0m\u001b[1;33m(\u001b[0m\u001b[1;34m'The value : '\u001b[0m\u001b[1;33m)\u001b[0m\u001b[1;33m)\u001b[0m\u001b[1;33m\u001b[0m\u001b[1;33m\u001b[0m\u001b[0m\n\u001b[1;32m----> 4\u001b[1;33m     \u001b[1;32massert\u001b[0m \u001b[0mspam\u001b[0m \u001b[1;33m>\u001b[0m \u001b[1;36m0\u001b[0m\u001b[1;33m,\u001b[0m\u001b[1;34m'< 0 gives error'\u001b[0m\u001b[1;33m\u001b[0m\u001b[1;33m\u001b[0m\u001b[0m\n\u001b[0m\u001b[0;32m      5\u001b[0m \u001b[1;33m\u001b[0m\u001b[0m\n\u001b[0;32m      6\u001b[0m \u001b[1;33m\u001b[0m\u001b[0m\n",
      "\u001b[1;31mAssertionError\u001b[0m: < 0 gives error"
     ]
    }
   ],
   "source": [
    "a_function()"
   ]
  },
  {
   "cell_type": "markdown",
   "id": "159a07fb",
   "metadata": {},
   "source": [
    "2. Write an assert statement that triggers an AssertionError if the variables eggs and bacon contain strings that are the same as each other, even if their cases are different (that is, 'hello' and 'hello' are considered the same, and 'goodbye' and 'GOODbye' are also considered the same)."
   ]
  },
  {
   "cell_type": "code",
   "execution_count": 39,
   "id": "b2ef174d",
   "metadata": {},
   "outputs": [],
   "source": [
    "def my_func():\n",
    "    \n",
    "    eggs= str(input('Enter word1 :')).upper()\n",
    "    bacon= str(input('Enter word2 : ')).upper()\n",
    "    \n",
    "    try:\n",
    "        assert eggs == bacon,'Not a match'\n",
    "        print('It is a match')\n",
    "    except AssertionError as msg:\n",
    "        print(msg)"
   ]
  },
  {
   "cell_type": "code",
   "execution_count": 40,
   "id": "f0f75b58",
   "metadata": {},
   "outputs": [
    {
     "name": "stdout",
     "output_type": "stream",
     "text": [
      "Enter word1 :fchg\n",
      "Enter word2 : vghhj\n",
      "Not a match\n"
     ]
    }
   ],
   "source": [
    "my_func()"
   ]
  },
  {
   "cell_type": "markdown",
   "id": "c9c2c012",
   "metadata": {},
   "source": [
    "3. Create an assert statement that throws an AssertionError every time."
   ]
  },
  {
   "cell_type": "code",
   "execution_count": 1,
   "id": "ff33612d",
   "metadata": {},
   "outputs": [],
   "source": [
    "def some_func():\n",
    "    try:\n",
    "        a=int(input('n1 :'))\n",
    "        b=int(input('n2 :'))\n",
    "        assert b!=0,'U entered a zero in denominator'\n",
    "        print(a/b)\n",
    "        \n",
    "    except AssertionError as msg:\n",
    "        print(msg)\n",
    "        "
   ]
  },
  {
   "cell_type": "code",
   "execution_count": 3,
   "id": "9ff737d0",
   "metadata": {},
   "outputs": [
    {
     "name": "stdout",
     "output_type": "stream",
     "text": [
      "n1 :12\n",
      "n2 :0\n",
      "U entered a zero in denominator\n"
     ]
    }
   ],
   "source": [
    "some_func()"
   ]
  },
  {
   "cell_type": "code",
   "execution_count": 4,
   "id": "40812093",
   "metadata": {},
   "outputs": [],
   "source": [
    "assert(False,'I always trigger if condition fails')"
   ]
  },
  {
   "cell_type": "markdown",
   "id": "546b7851",
   "metadata": {},
   "source": [
    "4. What are the two lines that must be present in your software in order to call logging.debug()?"
   ]
  },
  {
   "cell_type": "raw",
   "id": "5be4df7d",
   "metadata": {},
   "source": [
    "To be able to call logging.debug() u must first have to import logging\n",
    "then logging.basicConfig(level=logging.DEBUG, format=' %(asctime)s - %(levelname)s - %(message)s')"
   ]
  },
  {
   "cell_type": "markdown",
   "id": "f884b139",
   "metadata": {},
   "source": [
    "5. What are the two lines that your program must have in order to have logging.debug() send a logging message to a file named programLog.txt?"
   ]
  },
  {
   "cell_type": "code",
   "execution_count": 5,
   "id": "76731b2f",
   "metadata": {},
   "outputs": [],
   "source": [
    "import logging"
   ]
  },
  {
   "cell_type": "code",
   "execution_count": 14,
   "id": "593fdcca",
   "metadata": {},
   "outputs": [],
   "source": [
    "logging.basicConfig(filename='programlog.txt',filemode='w',format='%(name)s - %(levelname)s - %(message)s',level=logging.DEBUG)\n",
    "logging.warning('The file is logged ')"
   ]
  },
  {
   "cell_type": "markdown",
   "id": "b8b6e717",
   "metadata": {},
   "source": [
    "6. What are the five levels of logging?"
   ]
  },
  {
   "cell_type": "code",
   "execution_count": 15,
   "id": "b03c9e08",
   "metadata": {},
   "outputs": [],
   "source": [
    "\"\"\"Five levels of logging are :\n",
    "    debug\n",
    "    info\n",
    "    warning\n",
    "    error\n",
    "    critical --- in hirearchy\n",
    "\"\"\"\n",
    "    \n",
    "import logging\n",
    "\n",
    "logging.debug('This is a debug message')\n",
    "logging.info('this is a information message')\n",
    "logging.warning('this is a warning message')\n",
    "logging.error('This is error message')\n",
    "logging.critical('this is a critical message')"
   ]
  },
  {
   "cell_type": "markdown",
   "id": "1e5dc858",
   "metadata": {},
   "source": [
    "7. What line of code would you add to your software to disable all logging messages?"
   ]
  },
  {
   "cell_type": "code",
   "execution_count": 17,
   "id": "6857c1d9",
   "metadata": {},
   "outputs": [],
   "source": [
    "import logging\n",
    "logging.getLogger(\"Python\").setLevel(logging.WARNING)\n",
    "logging.getLogger(\"Assignments\").setLevel(logging.WARNING)"
   ]
  },
  {
   "cell_type": "markdown",
   "id": "54fad969",
   "metadata": {},
   "source": [
    "8.Why is using logging messages better than using print() to display the same message?"
   ]
  },
  {
   "cell_type": "raw",
   "id": "7b2dd763",
   "metadata": {},
   "source": [
    "Because u can save the result in a looged file and get it retrived when needed in future witout having to run the python script"
   ]
  },
  {
   "cell_type": "markdown",
   "id": "625a5cbd",
   "metadata": {},
   "source": [
    "9. What are the differences between the Step Over, Step In, and Step Out buttons in the debugger?"
   ]
  },
  {
   "cell_type": "raw",
   "id": "9174233f",
   "metadata": {},
   "source": [
    "Step in: means that if there is a function call, it goes inside the function and you can see how the function is executing line by line till it returns and you go back to the next line right after the function call.\n",
    "\n",
    "Step over: means that if there is a function call, it just executes it like a black box and returns the result, but you cannot see how the function was executed.\n",
    "\n",
    "Step out: means that if you have Stepped in a function and now you want to skip seeing how the rest of the function is going to execute, you Step out and the function returns. Then, you go back to the next line, that is the line right after the function call."
   ]
  },
  {
   "cell_type": "markdown",
   "id": "47a366f7",
   "metadata": {},
   "source": [
    "10.After you click Continue, when will the debugger stop ?"
   ]
  },
  {
   "cell_type": "raw",
   "id": "f0a7dfa5",
   "metadata": {},
   "source": [
    "Pausing or Stopping the Debugger\n",
    "\n",
    "At this point you can click the Start button to continue running the script, click the Step button to execute the highlighted line of code, or execute additional Python commands. To stop debugging the script, click the Stop button or press the Esc key."
   ]
  },
  {
   "cell_type": "code",
   "execution_count": 20,
   "id": "5be53d5b",
   "metadata": {},
   "outputs": [
    {
     "name": "stdout",
     "output_type": "stream",
     "text": [
      "Automatic pdb calling has been turned ON\n"
     ]
    }
   ],
   "source": [
    "pdb"
   ]
  },
  {
   "cell_type": "markdown",
   "id": "07287ce2",
   "metadata": {},
   "source": [
    "## i am struggling with understanding this query along with googling"
   ]
  },
  {
   "cell_type": "markdown",
   "id": "419a569c",
   "metadata": {},
   "source": [
    "11. What is the concept of a breakpoint?"
   ]
  },
  {
   "cell_type": "code",
   "execution_count": 20,
   "id": "b63b196c",
   "metadata": {},
   "outputs": [],
   "source": [
    "def maximum_num(lst):\n",
    "    \n",
    "    #max_num=0 -- works fine for all postive integers\n",
    "    max_num=-float('inf')\n",
    "    for num in lst:\n",
    "        if num > max_num:\n",
    "            #print(num)\n",
    "            #print(max_num)\n",
    "            max_num=num\n",
    "    return max_num\n",
    "    \n",
    "    "
   ]
  },
  {
   "cell_type": "code",
   "execution_count": 21,
   "id": "ba0113d1",
   "metadata": {},
   "outputs": [
    {
     "name": "stdout",
     "output_type": "stream",
     "text": [
      "567\n"
     ]
    }
   ],
   "source": [
    "print(maximum_num([1,2,4,56,567,3]))"
   ]
  },
  {
   "cell_type": "code",
   "execution_count": 22,
   "id": "a90a55f8",
   "metadata": {},
   "outputs": [
    {
     "name": "stdout",
     "output_type": "stream",
     "text": [
      "-1\n"
     ]
    }
   ],
   "source": [
    "print(maximum_num([-1,-3,-19,-1]))"
   ]
  },
  {
   "cell_type": "raw",
   "id": "16a5d6db",
   "metadata": {},
   "source": [
    "# inf is a constant that returns floating point positive infinity\n",
    "\n",
    "# for negative infinity use -float(inf)\n",
    "\n",
    "# is very useful when there are many varibles or complex code or not sure of how code works.using breakpoints gives u the idea how the code is working towards its expected outcome"
   ]
  },
  {
   "cell_type": "code",
   "execution_count": 24,
   "id": "ea6a0661",
   "metadata": {},
   "outputs": [
    {
     "name": "stdout",
     "output_type": "stream",
     "text": [
      "-12\n"
     ]
    }
   ],
   "source": [
    "# where to use breakpoint()\n",
    "\n",
    "def my_function(lst):\n",
    "    \n",
    "    num_max=-float('inf')\n",
    "    \n",
    "    for num in lst:\n",
    "        breakpoint()\n",
    "        if num > num_max:\n",
    "            num_max=num\n",
    "    return num_max\n",
    "\n",
    "\n",
    "print(my_function([-98,-34,-12]))\n",
    "          "
   ]
  },
  {
   "cell_type": "code",
   "execution_count": null,
   "id": "a6a8986e",
   "metadata": {},
   "outputs": [],
   "source": []
  }
 ],
 "metadata": {
  "kernelspec": {
   "display_name": "Python 3 (ipykernel)",
   "language": "python",
   "name": "python3"
  },
  "language_info": {
   "codemirror_mode": {
    "name": "ipython",
    "version": 3
   },
   "file_extension": ".py",
   "mimetype": "text/x-python",
   "name": "python",
   "nbconvert_exporter": "python",
   "pygments_lexer": "ipython3",
   "version": "3.9.13"
  }
 },
 "nbformat": 4,
 "nbformat_minor": 5
}
