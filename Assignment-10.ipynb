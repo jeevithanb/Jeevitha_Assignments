{
 "cells": [
  {
   "cell_type": "code",
   "execution_count": null,
   "id": "c8b56ca9",
   "metadata": {},
   "outputs": [],
   "source": [
    "## 1. How do you distinguish between shutil.copy() and shutil.copytree()?"
   ]
  },
  {
   "cell_type": "code",
   "execution_count": 9,
   "id": "fccb3166",
   "metadata": {},
   "outputs": [
    {
     "name": "stdout",
     "output_type": "stream",
     "text": [
      "File Copied to destination directory successfuly:\n",
      " C:\\Users\\nbhad\\OneDrive\\Desktop\\jeethu Learning\\UCGS_ICT_Code_of_Conduct.pdf\n"
     ]
    }
   ],
   "source": [
    "import shutil\n",
    "import os\n",
    "\n",
    "# source file link\n",
    "src=r\"C:\\Users\\nbhad\\OneDrive\\Desktop\\UCGS_ICT_Code_of_Conduct.pdf\"\n",
    "\n",
    "# destination link\n",
    "dest=r\"C:\\Users\\nbhad\\OneDrive\\Desktop\\jeethu Learning\"\n",
    "\n",
    "\n",
    "#using exception handling to check whether the file ha been successfully moved\n",
    "try:\n",
    "    a=shutil.copy(src,dest)\n",
    "    print('File Copied to destination directory successfuly:\\n',a)\n",
    "    \n",
    "except Exception as e:\n",
    "    print(e)\n",
    "    \n",
    "    \n",
    "    \n",
    "#shutil.copy() copies a single file from source to destination"
   ]
  },
  {
   "cell_type": "code",
   "execution_count": 7,
   "id": "531bda2d",
   "metadata": {},
   "outputs": [
    {
     "name": "stdout",
     "output_type": "stream",
     "text": [
      "source path: ['Home_School_Agreement_2023.pdf', 'Privacy-Notice-for-Pupils-September-2022.pdf', 'UCGS_ICT_Code_of_Conduct (1).pdf', 'UCGS_ICT_Code_of_Conduct.pdf']\n",
      "Destination Path:\n",
      " C:\\Users\\nbhad\\OneDrive\\Desktop\\upton_copy\n"
     ]
    }
   ],
   "source": [
    "import shutil\n",
    "import os\n",
    "\n",
    "\n",
    "src1=r\"C:\\Users\\nbhad\\OneDrive\\Desktop\\upton\"\n",
    "\n",
    "print('source path:',os.listdir(src1))\n",
    "\n",
    "\n",
    "# destination doc link\n",
    "dest2=r\"C:\\Users\\nbhad\\OneDrive\\Desktop\\upton_copy\"\n",
    "\n",
    "\n",
    "\n",
    "destination=shutil.copytree(src1,dest2)\n",
    "\n",
    "print('Destination Path:\\n',destination)\n",
    "\n",
    "# shutil.copytree() copies the src directory to destination directory by creating its own path mention in the destination link i mean where u want to place ur docs\n"
   ]
  },
  {
   "cell_type": "code",
   "execution_count": null,
   "id": "3db465aa",
   "metadata": {},
   "outputs": [],
   "source": [
    "## 2. What function is used to rename files??"
   ]
  },
  {
   "cell_type": "code",
   "execution_count": 10,
   "id": "3843b700",
   "metadata": {},
   "outputs": [
    {
     "name": "stdout",
     "output_type": "stream",
     "text": [
      "C:\\Users\\nbhad\\OneDrive\\Desktop\\jeethu Learning\\Modern newspaper.dotx\n"
     ]
    }
   ],
   "source": [
    "import shutil\n",
    "\n",
    "moving=r\"C:\\Users\\nbhad\\AppData\\Roaming\\Microsoft\\Templates\\Modern newspaper.dotx\"\n",
    "\n",
    "move_to=r\"C:\\Users\\nbhad\\OneDrive\\Desktop\\jeethu Learning\"\n",
    "\n",
    "moved=shutil.move(moving,move_to)\n",
    "\n",
    "print(moved)"
   ]
  },
  {
   "cell_type": "code",
   "execution_count": 12,
   "id": "ce6d17ba",
   "metadata": {},
   "outputs": [
    {
     "name": "stdout",
     "output_type": "stream",
     "text": [
      "C:\\Users\\nbhad\\new_doc.docx\n"
     ]
    }
   ],
   "source": [
    "## Renaming\n",
    "x=r\"C:\\Users\\nbhad\\Downloads\\Assignment_10.docx\"\n",
    "renaming=shutil.move(x,r'C:\\Users\\nbhad\\new_doc.docx')\n",
    "print(renaming)"
   ]
  },
  {
   "cell_type": "code",
   "execution_count": null,
   "id": "be42840c",
   "metadata": {},
   "outputs": [],
   "source": [
    "## 3. What is the difference between the delete functions in the send2trash and shutil modules?\n",
    "\n",
    "\n",
    "shutil.rmtree() deletes the files and folders completely\n",
    "\n",
    "send2trash() functions sends the files to recycle bin instead of permanently deleting it. for this e should install send2trash module"
   ]
  },
  {
   "cell_type": "code",
   "execution_count": null,
   "id": "ea7ce40d",
   "metadata": {},
   "outputs": [],
   "source": [
    "## 4.ZipFile objects have a close() method just like File objects’ close() method.\n",
    "# What ZipFile method is equivalent to File objects’ open() method?\n",
    "\n",
    "import zipfile,os\n",
    "\n",
    "\n",
    "zipfile.zipfile('somefile.zip') is used to open a zipped file"
   ]
  },
  {
   "cell_type": "code",
   "execution_count": 25,
   "id": "1f3dc500",
   "metadata": {},
   "outputs": [
    {
     "name": "stdout",
     "output_type": "stream",
     "text": [
      "directory Path is : C:\\Users\\nbhad\\Ineuron_Assignments\n"
     ]
    }
   ],
   "source": [
    "## 5. Create a programme that searches a folder tree for files with a certain file extension (such as .pdf or .jpg). \n",
    "#Copy these files from whatever location they are in to a new folder.\n",
    "\n",
    "import os\n",
    "\n",
    "dir_path = os.path.dirname(os.path.realpath('__file__'))\n",
    "print('directory Path is :',dir_path)\n",
    "\n",
    "for root,dirs,files in os.walk(dir_path):\n",
    "    for file in files:\n",
    "        if file.endswith('.txt'):\n",
    "            pass\n",
    "     \n",
    "        \n",
    "\n",
    "\n"
   ]
  },
  {
   "cell_type": "code",
   "execution_count": 29,
   "id": "b7319a0e",
   "metadata": {},
   "outputs": [
    {
     "name": "stdout",
     "output_type": "stream",
     "text": [
      "Looking in C:\\Users\\nbhad\\Ineuron_Assignments\\randomFolder for files with extensions of .txt, .jpg\n"
     ]
    }
   ],
   "source": [
    "import shutil,os\n",
    "\n",
    "def foldertree(folder, extensions, destFolder):\n",
    "    folder = os.path.abspath(folder)\n",
    "    destFolder = os.path.abspath(destFolder)\n",
    "    print('Looking in', folder, 'for files with extensions of', ', '.join(extensions))\n",
    "    for foldername, subfolders, filenames in os.walk(folder):\n",
    "        for filename in filenames:\n",
    "            name, extension = os.path.splitext(filename)\n",
    "            \n",
    "            if extension in extensions:\n",
    "                fileAbsPath = foldername + os.path.sep + filename\n",
    "                print('Coping', fileAbsPath, 'to', destFolder)\n",
    "                shutil.copy(fileAbsPath, destFolder)\n",
    "\n",
    "extensions = ['.txt', '.jpg']\n",
    "folder = 'randomFolder'\n",
    "destFolder = 'selectiveFolder'\n",
    "foldertree(folder, extensions, destFolder)\n"
   ]
  },
  {
   "cell_type": "code",
   "execution_count": null,
   "id": "16c22d8f",
   "metadata": {},
   "outputs": [],
   "source": []
  }
 ],
 "metadata": {
  "kernelspec": {
   "display_name": "Python 3 (ipykernel)",
   "language": "python",
   "name": "python3"
  },
  "language_info": {
   "codemirror_mode": {
    "name": "ipython",
    "version": 3
   },
   "file_extension": ".py",
   "mimetype": "text/x-python",
   "name": "python",
   "nbconvert_exporter": "python",
   "pygments_lexer": "ipython3",
   "version": "3.9.13"
  }
 },
 "nbformat": 4,
 "nbformat_minor": 5
}
